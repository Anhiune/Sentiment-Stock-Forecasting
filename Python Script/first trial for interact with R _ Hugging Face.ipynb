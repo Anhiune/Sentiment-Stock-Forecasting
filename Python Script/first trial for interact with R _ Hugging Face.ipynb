{
 "cells": [
  {
   "cell_type": "code",
   "execution_count": null,
   "id": "fa60a7ea",
   "metadata": {},
   "outputs": [],
   "source": [
    "pip install pandas transformers torch\n",
    "import pandas as pd\n",
    "from transformers import AutoTokenizer, AutoModelForSequenceClassification, pipeline\n",
    "import torch\n",
    "\n",
    "# Load pre-trained Twitter sentiment model\n",
    "MODEL = \"cardiffnlp/twitter-roberta-base-sentiment\"\n",
    "\n",
    "# Load tokenizer and model\n",
    "tokenizer = AutoTokenizer.from_pretrained(MODEL)\n",
    "model = AutoModelForSequenceClassification.from_pretrained(MODEL)\n",
    "\n",
    "# Create sentiment pipeline\n",
    "sentiment_pipeline = pipeline(\"sentiment-analysis\", model=model, tokenizer=tokenizer)\n",
    "\n",
    "# Load your CSV file\n",
    "# Replace this with your actual file path\n",
    "df = pd.read_csv(\"used_tesla_tweets_extracted_first_version.csv\")  # your file with 'Text' column\n",
    "\n",
    "# Define a function to apply sentiment analysis\n",
    "def analyze_sentiment(text):\n",
    "    try:\n",
    "        result = sentiment_pipeline(text[:512])[0]  # limit to 512 tokens\n",
    "        return pd.Series([result['label'], result['score']])\n",
    "    except Exception as e:\n",
    "        return pd.Series(['ERROR', 0.0])\n",
    "\n",
    "# Apply sentiment analysis to the Text column\n",
    "df[['sentiment_label', 'sentiment_score']] = df['Text'].astype(str).apply(analyze_sentiment)\n",
    "\n",
    "# Save result\n",
    "df.to_csv(\"used_tesla_tweets_extracted_first_version.csv\", index=False)\n",
    "\n",
    "print(\"Sentiment analysis completed. Output saved to 'used_tesla_tweets_extracted_first_version.csv'\")"
   ]
  }
 ],
 "metadata": {
  "language_info": {
   "name": "python"
  }
 },
 "nbformat": 4,
 "nbformat_minor": 5
}
